{
 "cells": [
  {
   "cell_type": "markdown",
   "id": "d3d001b0-2e2f-4b58-8442-99520bad831f",
   "metadata": {},
   "source": [
    "# Sowing Success: How Machine Learning Helps Farmers Select the Best Crops\n",
    "\n",
    "![Farmer in a field](farmer_in_a_field.jpg)\n",
    "\n",
    "Measuring essential soil metrics such as nitrogen, phosphorous, potassium levels, and pH value is an important aspect of assessing soil condition. However, it can be an expensive and time-consuming process, which can cause farmers to prioritize which metrics to measure based on their budget constraints.\n",
    "\n",
    "Farmers have various options when it comes to deciding which crop to plant each season. Their primary objective is to maximize the yield of their crops, taking into account different factors. One crucial factor that affects crop growth is the condition of the soil in the field, which can be assessed by measuring basic elements such as nitrogen and potassium levels. Each crop has an ideal soil condition that ensures optimal growth and maximum yield.\n",
    "\n",
    "A farmer reached out to you as a machine learning expert for assistance in selecting the best crop for his field. They've provided you with a dataset called `soil_measures.csv`, which contains:\n",
    "\n",
    "- `\"N\"`: Nitrogen content ratio in the soil\n",
    "- `\"P\"`: Phosphorous content ratio in the soil\n",
    "- `\"K\"`: Potassium content ratio in the soil\n",
    "- `\"pH\"` value of the soil\n",
    "- `\"crop\"`: categorical values that contain various crops (target variable).\n",
    "\n",
    "Each row in this dataset represents various measures of the soil in a particular field. Based on these measurements, the crop specified in the `\"crop\"` column is the optimal choice for that field.  \n",
    "\n",
    "In this project, you will apply machine learning to build a multi-class classification model to predict the type of `\"crop\"`, while using techniques to avoid multicollinearity, which is a concept where two or more features are highly correlated."
   ]
  },
  {
   "cell_type": "code",
   "execution_count": 1,
   "id": "d0eb4f16-5a99-460d-a5ba-706b7ef0bbe7",
   "metadata": {
    "executionCancelledAt": null,
    "executionTime": 25,
    "id": "bA5ajAmk7XH6",
    "lastExecutedAt": 1704071447639,
    "lastScheduledRunId": null,
    "lastSuccessfullyExecutedCode": "# All required libraries are imported here for you.\nimport matplotlib.pyplot as plt\nimport pandas as pd\nfrom sklearn.linear_model import LogisticRegression\nfrom sklearn.model_selection import train_test_split\nimport seaborn as sns\nfrom sklearn.metrics import f1_score\n\n# Load the dataset\ncrops = pd.read_csv(\"soil_measures.csv\")\n\nprint(crops.head())",
    "outputsMetadata": {
     "0": {
      "height": 137,
      "type": "stream"
     }
    }
   },
   "outputs": [
    {
     "name": "stdout",
     "output_type": "stream",
     "text": [
      "    N   P   K        ph  crop\n",
      "0  90  42  43  6.502985  rice\n",
      "1  85  58  41  7.038096  rice\n",
      "2  60  55  44  7.840207  rice\n",
      "3  74  35  40  6.980401  rice\n",
      "4  78  42  42  7.628473  rice\n"
     ]
    }
   ],
   "source": [
    "# All required libraries are imported here for you.\n",
    "import matplotlib.pyplot as plt\n",
    "import pandas as pd\n",
    "from sklearn.linear_model import LogisticRegression\n",
    "from sklearn.model_selection import train_test_split\n",
    "import seaborn as sns\n",
    "from sklearn.metrics import f1_score\n",
    "import warnings # remove warnigns that pyplot throws up\n",
    "warnings.filterwarnings(\"ignore\")\n",
    "\n",
    "# Load the dataset\n",
    "crops = pd.read_csv(\"datasets/soil_measures.csv\")\n",
    "\n",
    "print(crops.head())"
   ]
  },
  {
   "cell_type": "code",
   "execution_count": 2,
   "id": "58d574ba-c78d-48ab-a577-2707deb0fd7f",
   "metadata": {
    "executionCancelledAt": null,
    "executionTime": 54,
    "lastExecutedAt": 1704071447693,
    "lastScheduledRunId": null,
    "lastSuccessfullyExecutedCode": "# Check for missing values\ncrops.isna().sum()",
    "outputsMetadata": {
     "0": {
      "height": 277,
      "type": "stream"
     }
    }
   },
   "outputs": [
    {
     "data": {
      "text/plain": [
       "N       0\n",
       "P       0\n",
       "K       0\n",
       "ph      0\n",
       "crop    0\n",
       "dtype: int64"
      ]
     },
     "execution_count": 2,
     "metadata": {},
     "output_type": "execute_result"
    }
   ],
   "source": [
    "# Check for missing values\n",
    "crops.isna().sum()"
   ]
  },
  {
   "cell_type": "code",
   "execution_count": 3,
   "id": "9c02d08d-386f-4193-bf21-d3f201c59359",
   "metadata": {
    "executionCancelledAt": null,
    "executionTime": 53,
    "lastExecutedAt": 1704071447746,
    "lastScheduledRunId": null,
    "lastSuccessfullyExecutedCode": "# Check how many crops we have, i.e., multi-class target\ncrops.crop.unique()"
   },
   "outputs": [
    {
     "data": {
      "text/plain": [
       "array(['rice', 'maize', 'chickpea', 'kidneybeans', 'pigeonpeas',\n",
       "       'mothbeans', 'mungbean', 'blackgram', 'lentil', 'pomegranate',\n",
       "       'banana', 'mango', 'grapes', 'watermelon', 'muskmelon', 'apple',\n",
       "       'orange', 'papaya', 'coconut', 'cotton', 'jute', 'coffee'],\n",
       "      dtype=object)"
      ]
     },
     "execution_count": 3,
     "metadata": {},
     "output_type": "execute_result"
    }
   ],
   "source": [
    "# Check how many crops we have, i.e., multi-class target\n",
    "crops.crop.unique()"
   ]
  },
  {
   "cell_type": "code",
   "execution_count": 4,
   "id": "728671d0-d231-40dd-bcf8-8b6e3807e1c2",
   "metadata": {
    "executionCancelledAt": null,
    "executionTime": null,
    "lastExecutedAt": null,
    "lastScheduledRunId": null,
    "lastSuccessfullyExecutedCode": null,
    "outputsMetadata": {
     "0": {
      "height": 97,
      "type": "stream"
     }
    }
   },
   "outputs": [
    {
     "name": "stdout",
     "output_type": "stream",
     "text": [
      "N: F1 Score = 0.1067\n",
      "P: F1 Score = 0.1328\n",
      "K: F1 Score = 0.2138\n",
      "ph: F1 Score = 0.0453\n"
     ]
    }
   ],
   "source": [
    "# Determine feature and target columns\n",
    "\n",
    "X = crops.iloc[:,1:]\n",
    "y = crops[\"crop\"]\n",
    "max_inter = 2000\n",
    "multi_class = 'mulitnominal'\n",
    "\n",
    "# Split the data into training and testing sets\n",
    "X_train, X_test, y_train, y_test = train_test_split(X,y, test_size=0.2, random_state=42)\n",
    "\n",
    "for feature in crops.columns[:-1]:\n",
    "    # Fit Logistic Regression model\n",
    "    model = LogisticRegression(\n",
    "        max_iter=2000,\n",
    "        multi_class=\"multinomial\",\n",
    "    )\n",
    "    model.fit(X_train[[feature]], y_train)\n",
    "    y_pred = model.predict(X_test[[feature]])\n",
    "    f1 = f1_score(y_test, y_pred, average=\"weighted\")\n",
    "    print(f\"{feature}: F1 Score = {f1:.4f}\")"
   ]
  },
  {
   "cell_type": "code",
   "execution_count": 5,
   "id": "0b47eeef-07e4-4a47-be5e-2f5e9715063f",
   "metadata": {
    "executionCancelledAt": null,
    "executionTime": 200,
    "lastExecutedAt": 1704071508746,
    "lastScheduledRunId": null,
    "lastSuccessfullyExecutedCode": "# Create a heatmap\nsns.heatmap(X.corr(), annot=True)\nplt.show()"
   },
   "outputs": [
    {
     "data": {
      "image/png": "[encoded data removed]",
      "text/plain": [
       "<Figure size 432x288 with 2 Axes>"
      ]
     },
     "metadata": {
      "needs_background": "light"
     },
     "output_type": "display_data"
    }
   ],
   "source": [
    "# Create a heatmap\n",
    "sns.heatmap(X.corr(), annot=True)\n",
    "plt.show()"
   ]
  },
  {
   "cell_type": "code",
   "execution_count": 6,
   "id": "0680f61d-0104-4749-a0d7-249eae7805b4",
   "metadata": {
    "executionCancelledAt": null,
    "executionTime": 54,
    "lastExecutedAt": 1704071508800,
    "lastScheduledRunId": null,
    "lastSuccessfullyExecutedCode": "# Determine feature and target columns\n\nfinal_features = crops.iloc[:,[0,2,3]]\ny = crops[\"crop\"]"
   },
   "outputs": [],
   "source": [
    "# Determine feature and target columns\n",
    "\n",
    "final_features = crops.iloc[:,[0,2,3]]\n",
    "y = crops[\"crop\"]"
   ]
  },
  {
   "cell_type": "code",
   "execution_count": 7,
   "id": "04ba6b10-849e-4cf3-b0e1-6d7fa17e7365",
   "metadata": {
    "executionCancelledAt": null,
    "executionTime": 1243,
    "lastExecutedAt": 1704071510106,
    "lastScheduledRunId": null,
    "lastSuccessfullyExecutedCode": "# Set max_iter to 2000 and multi_class to an appropriate string value\nmax_iter = 2000\nmulti_class = 'multinomial'\n\n# Split the data into training and testing sets\nX_train, X_test, y_train, y_test = train_test_split(final_features, y, test_size=0.2, random_state=42)\n\n# Fit Logistic Regression model\nlog_reg = LogisticRegression(max_iter=max_iter, multi_class=multi_class)\nlog_reg.fit(X_train, y_train)\n\n# Predict on the test set\ny_pred = log_reg.predict(X_test)\n\n# Calculate f1_score\nmodel_performance = f1_score(y_test, y_pred, average='weighted')\n\nprint(f\"F1 Score = {model_performance:.4f}\")",
    "outputsMetadata": {
     "0": {
      "height": 37,
      "type": "stream"
     }
    }
   },
   "outputs": [
    {
     "name": "stdout",
     "output_type": "stream",
     "text": [
      "F1 Score = 0.5697\n"
     ]
    }
   ],
   "source": [
    "# Set max_iter to 2000 and multi_class to an appropriate string value\n",
    "max_iter = 2000\n",
    "multi_class = 'multinomial'\n",
    "\n",
    "# Split the data into training and testing sets\n",
    "X_train, X_test, y_train, y_test = train_test_split(final_features, y, test_size=0.2, random_state=42)\n",
    "\n",
    "# Fit Logistic Regression model\n",
    "log_reg = LogisticRegression(max_iter=max_iter, multi_class=multi_class)\n",
    "log_reg.fit(X_train, y_train)\n",
    "\n",
    "# Predict on the test set\n",
    "y_pred = log_reg.predict(X_test)\n",
    "\n",
    "# Calculate f1_score\n",
    "model_performance = f1_score(y_test, y_pred, average='weighted')\n",
    "\n",
    "print(f\"F1 Score = {model_performance:.4f}\")"
   ]
  }
 ],
 "metadata": {
  "colab": {
   "name": "Welcome to DataCamp Workspaces.ipynb",
   "provenance": []
  },
  "kernelspec": {
   "display_name": "Python 3",
   "language": "python",
   "name": "python3"
  },
  "language_info": {
   "codemirror_mode": {
    "name": "ipython",
    "version": 3
   },
   "file_extension": ".py",
   "mimetype": "text/x-python",
   "name": "python",
   "nbconvert_exporter": "python",
   "pygments_lexer": "ipython3",
   "version": "3.6.13"
  },
  "toc": {
   "base_numbering": 1,
   "nav_menu": {},
   "number_sections": true,
   "sideBar": true,
   "skip_h1_title": false,
   "title_cell": "Table of Contents",
   "title_sidebar": "Contents",
   "toc_cell": false,
   "toc_position": {},
   "toc_section_display": true,
   "toc_window_display": false
  }
 },
 "nbformat": 4,
 "nbformat_minor": 5
}
