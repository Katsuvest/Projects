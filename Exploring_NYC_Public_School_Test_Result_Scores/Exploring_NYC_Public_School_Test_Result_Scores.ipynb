{
 "cells": [
  {
   "cell_type": "markdown",
   "id": "fe0ea788-58dd-459e-8976-fafdb5c05c6d",
   "metadata": {},
   "source": [
    "![New York City schoolbus](schoolbus.jpg)\n",
    "\n",
    "Photo by [Jannis Lucas](https://unsplash.com/@jannis_lucas) on [Unsplash](https://unsplash.com).\n",
    "<br>\n",
    "\n",
    "Every year, American high school students take SATs, which are standardized tests intended to measure literacy, numeracy, and writing skills. There are three sections - reading, math, and writing, each with a maximum score of 800 points. These tests are extremely important for students and colleges, as they play a pivotal role in the admissions process.\n",
    "\n",
    "Analyzing the performance of schools is important for a variety of stakeholders, including policy and education professionals, researchers, government, and even parents considering which school their children should attend. \n",
    "\n",
    "You have been provided with a dataset called `schools.csv`, which is previewed below.\n",
    "\n",
    "You have been tasked with answering three key questions about New York City (NYC) public school SAT performance."
   ]
  },
  {
   "cell_type": "code",
   "execution_count": 1,
   "id": "d0eb4f16-5a99-460d-a5ba-706b7ef0bbe7",
   "metadata": {
    "executionCancelledAt": null,
    "executionTime": 29,
    "id": "bA5ajAmk7XH6",
    "lastExecutedAt": 1703720727950,
    "lastScheduledRunId": null,
    "lastSuccessfullyExecutedCode": "# Re-run this cell \nimport pandas as pd\n\n# Read in the data\nschools = pd.read_csv(\"schools.csv\")\n\n# Preview the data\nschools\n\n",
    "outputsMetadata": {
     "0": {
      "height": 323,
      "type": "dataFrame"
     }
    }
   },
   "outputs": [
    {
     "data": {
      "text/html": [
       "<div>\n",
       "<style scoped>\n",
       "    .dataframe tbody tr th:only-of-type {\n",
       "        vertical-align: middle;\n",
       "    }\n",
       "\n",
       "    .dataframe tbody tr th {\n",
       "        vertical-align: top;\n",
       "    }\n",
       "\n",
       "    .dataframe thead th {\n",
       "        text-align: right;\n",
       "    }\n",
       "</style>\n",
       "<table border=\"1\" class=\"dataframe\">\n",
       "  <thead>\n",
       "    <tr style=\"text-align: right;\">\n",
       "      <th></th>\n",
       "      <th>school_name</th>\n",
       "      <th>borough</th>\n",
       "      <th>building_code</th>\n",
       "      <th>average_math</th>\n",
       "      <th>average_reading</th>\n",
       "      <th>average_writing</th>\n",
       "      <th>percent_tested</th>\n",
       "    </tr>\n",
       "  </thead>\n",
       "  <tbody>\n",
       "    <tr>\n",
       "      <th>0</th>\n",
       "      <td>New Explorations into Science, Technology and ...</td>\n",
       "      <td>Manhattan</td>\n",
       "      <td>M022</td>\n",
       "      <td>657</td>\n",
       "      <td>601</td>\n",
       "      <td>601</td>\n",
       "      <td>NaN</td>\n",
       "    </tr>\n",
       "    <tr>\n",
       "      <th>1</th>\n",
       "      <td>Essex Street Academy</td>\n",
       "      <td>Manhattan</td>\n",
       "      <td>M445</td>\n",
       "      <td>395</td>\n",
       "      <td>411</td>\n",
       "      <td>387</td>\n",
       "      <td>78.9</td>\n",
       "    </tr>\n",
       "    <tr>\n",
       "      <th>2</th>\n",
       "      <td>Lower Manhattan Arts Academy</td>\n",
       "      <td>Manhattan</td>\n",
       "      <td>M445</td>\n",
       "      <td>418</td>\n",
       "      <td>428</td>\n",
       "      <td>415</td>\n",
       "      <td>65.1</td>\n",
       "    </tr>\n",
       "    <tr>\n",
       "      <th>3</th>\n",
       "      <td>High School for Dual Language and Asian Studies</td>\n",
       "      <td>Manhattan</td>\n",
       "      <td>M445</td>\n",
       "      <td>613</td>\n",
       "      <td>453</td>\n",
       "      <td>463</td>\n",
       "      <td>95.9</td>\n",
       "    </tr>\n",
       "    <tr>\n",
       "      <th>4</th>\n",
       "      <td>Henry Street School for International Studies</td>\n",
       "      <td>Manhattan</td>\n",
       "      <td>M056</td>\n",
       "      <td>410</td>\n",
       "      <td>406</td>\n",
       "      <td>381</td>\n",
       "      <td>59.7</td>\n",
       "    </tr>\n",
       "    <tr>\n",
       "      <th>...</th>\n",
       "      <td>...</td>\n",
       "      <td>...</td>\n",
       "      <td>...</td>\n",
       "      <td>...</td>\n",
       "      <td>...</td>\n",
       "      <td>...</td>\n",
       "      <td>...</td>\n",
       "    </tr>\n",
       "    <tr>\n",
       "      <th>370</th>\n",
       "      <td>Queens High School for Information, Research, ...</td>\n",
       "      <td>Queens</td>\n",
       "      <td>Q465</td>\n",
       "      <td>372</td>\n",
       "      <td>362</td>\n",
       "      <td>352</td>\n",
       "      <td>44.6</td>\n",
       "    </tr>\n",
       "    <tr>\n",
       "      <th>371</th>\n",
       "      <td>Rockaway Park High School for Environmental Su...</td>\n",
       "      <td>Queens</td>\n",
       "      <td>Q410</td>\n",
       "      <td>357</td>\n",
       "      <td>381</td>\n",
       "      <td>376</td>\n",
       "      <td>38.5</td>\n",
       "    </tr>\n",
       "    <tr>\n",
       "      <th>372</th>\n",
       "      <td>Channel View School for Research</td>\n",
       "      <td>Queens</td>\n",
       "      <td>Q410</td>\n",
       "      <td>427</td>\n",
       "      <td>430</td>\n",
       "      <td>423</td>\n",
       "      <td>76.6</td>\n",
       "    </tr>\n",
       "    <tr>\n",
       "      <th>373</th>\n",
       "      <td>Rockaway Collegiate High School</td>\n",
       "      <td>Queens</td>\n",
       "      <td>Q410</td>\n",
       "      <td>399</td>\n",
       "      <td>403</td>\n",
       "      <td>405</td>\n",
       "      <td>46.5</td>\n",
       "    </tr>\n",
       "    <tr>\n",
       "      <th>374</th>\n",
       "      <td>Scholars' Academy</td>\n",
       "      <td>Queens</td>\n",
       "      <td>Q180</td>\n",
       "      <td>588</td>\n",
       "      <td>560</td>\n",
       "      <td>568</td>\n",
       "      <td>99.2</td>\n",
       "    </tr>\n",
       "  </tbody>\n",
       "</table>\n",
       "<p>375 rows × 7 columns</p>\n",
       "</div>"
      ],
      "text/plain": [
       "                                           school_name    borough  \\\n",
       "0    New Explorations into Science, Technology and ...  Manhattan   \n",
       "1                                 Essex Street Academy  Manhattan   \n",
       "2                         Lower Manhattan Arts Academy  Manhattan   \n",
       "3      High School for Dual Language and Asian Studies  Manhattan   \n",
       "4        Henry Street School for International Studies  Manhattan   \n",
       "..                                                 ...        ...   \n",
       "370  Queens High School for Information, Research, ...     Queens   \n",
       "371  Rockaway Park High School for Environmental Su...     Queens   \n",
       "372                   Channel View School for Research     Queens   \n",
       "373                    Rockaway Collegiate High School     Queens   \n",
       "374                                  Scholars' Academy     Queens   \n",
       "\n",
       "    building_code  average_math  average_reading  average_writing  \\\n",
       "0            M022           657              601              601   \n",
       "1            M445           395              411              387   \n",
       "2            M445           418              428              415   \n",
       "3            M445           613              453              463   \n",
       "4            M056           410              406              381   \n",
       "..            ...           ...              ...              ...   \n",
       "370          Q465           372              362              352   \n",
       "371          Q410           357              381              376   \n",
       "372          Q410           427              430              423   \n",
       "373          Q410           399              403              405   \n",
       "374          Q180           588              560              568   \n",
       "\n",
       "     percent_tested  \n",
       "0               NaN  \n",
       "1              78.9  \n",
       "2              65.1  \n",
       "3              95.9  \n",
       "4              59.7  \n",
       "..              ...  \n",
       "370            44.6  \n",
       "371            38.5  \n",
       "372            76.6  \n",
       "373            46.5  \n",
       "374            99.2  \n",
       "\n",
       "[375 rows x 7 columns]"
      ]
     },
     "execution_count": 1,
     "metadata": {},
     "output_type": "execute_result"
    }
   ],
   "source": [
    "# Re-run this cell \n",
    "import pandas as pd\n",
    "\n",
    "# Read in the data\n",
    "schools = pd.read_csv(\"datasets/schools.csv\")\n",
    "\n",
    "# Preview the data\n",
    "schools"
   ]
  },
  {
   "cell_type": "markdown",
   "id": "a8b0ce25",
   "metadata": {},
   "source": [
    "Create a pandas DataFrame called best_math_schools containing the \"school_name\" and \"average_math\" score for all schools where the results are at least 80% of the maximum possible score, sorted by \"average_math\" in descending order.\n"
   ]
  },
  {
   "cell_type": "code",
   "execution_count": 2,
   "id": "2066078e-90db-4c4a-9c70-9512bc534f9b",
   "metadata": {
    "executionCancelledAt": null,
    "executionTime": 57,
    "lastExecutedAt": 1703720728007,
    "lastScheduledRunId": null,
    "lastSuccessfullyExecutedCode": "best_math_schools = schools[schools['average_math']>=(0.8 * 800)]\nbest_math_schools = best_math_schools[['school_name','average_math']]\nbest_math_schools = best_math_schools.sort_values('average_math', ascending=False)\n\nprint(best_math_schools)",
    "outputsMetadata": {
     "0": {
      "height": 237,
      "type": "stream"
     }
    }
   },
   "outputs": [
    {
     "name": "stdout",
     "output_type": "stream",
     "text": [
      "                                           school_name  average_math\n",
      "88                              Stuyvesant High School           754\n",
      "170                       Bronx High School of Science           714\n",
      "93                 Staten Island Technical High School           711\n",
      "365  Queens High School for the Sciences at York Co...           701\n",
      "68   High School for Mathematics, Science, and Engi...           683\n",
      "280                     Brooklyn Technical High School           682\n",
      "333                        Townsend Harris High School           680\n",
      "174  High School of American Studies at Lehman College           669\n",
      "0    New Explorations into Science, Technology and ...           657\n",
      "45                       Eleanor Roosevelt High School           641\n"
     ]
    }
   ],
   "source": [
    "best_math_schools = schools[schools['average_math']>=(0.8 * 800)]\n",
    "best_math_schools = best_math_schools[['school_name','average_math']]\n",
    "best_math_schools = best_math_schools.sort_values('average_math', ascending=False)\n",
    "\n",
    "print(best_math_schools)"
   ]
  },
  {
   "cell_type": "markdown",
   "id": "1886f545",
   "metadata": {},
   "source": [
    "Identify the `top 10` performing schools based on scores across the three SAT sections, storing as a pandas DataFrame called `top_10_schools` containing the school name and a column named `\"total_SAT\"`, with results sorted by `total_SAT` in descending order.\n"
   ]
  },
  {
   "cell_type": "code",
   "execution_count": 3,
   "id": "bead20cc-2ddf-4d98-b5fa-b0238f6da460",
   "metadata": {
    "executionCancelledAt": null,
    "executionTime": 48,
    "lastExecutedAt": 1703720728055,
    "lastScheduledRunId": null,
    "lastSuccessfullyExecutedCode": "schools['total_SAT'] = schools['average_math']+schools['average_reading']+schools['average_writing']\n\ntop_10_schools = schools[['school_name','total_SAT']]\n\ntop_10_schools = top_10_schools.sort_values('total_SAT', ascending=False).head(10)\n\ntop_10_schools",
    "outputsMetadata": {
     "0": {
      "height": 323,
      "type": "dataFrame"
     }
    }
   },
   "outputs": [
    {
     "data": {
      "text/html": [
       "<div>\n",
       "<style scoped>\n",
       "    .dataframe tbody tr th:only-of-type {\n",
       "        vertical-align: middle;\n",
       "    }\n",
       "\n",
       "    .dataframe tbody tr th {\n",
       "        vertical-align: top;\n",
       "    }\n",
       "\n",
       "    .dataframe thead th {\n",
       "        text-align: right;\n",
       "    }\n",
       "</style>\n",
       "<table border=\"1\" class=\"dataframe\">\n",
       "  <thead>\n",
       "    <tr style=\"text-align: right;\">\n",
       "      <th></th>\n",
       "      <th>school_name</th>\n",
       "      <th>total_SAT</th>\n",
       "    </tr>\n",
       "  </thead>\n",
       "  <tbody>\n",
       "    <tr>\n",
       "      <th>88</th>\n",
       "      <td>Stuyvesant High School</td>\n",
       "      <td>2144</td>\n",
       "    </tr>\n",
       "    <tr>\n",
       "      <th>170</th>\n",
       "      <td>Bronx High School of Science</td>\n",
       "      <td>2041</td>\n",
       "    </tr>\n",
       "    <tr>\n",
       "      <th>93</th>\n",
       "      <td>Staten Island Technical High School</td>\n",
       "      <td>2041</td>\n",
       "    </tr>\n",
       "    <tr>\n",
       "      <th>174</th>\n",
       "      <td>High School of American Studies at Lehman College</td>\n",
       "      <td>2013</td>\n",
       "    </tr>\n",
       "    <tr>\n",
       "      <th>333</th>\n",
       "      <td>Townsend Harris High School</td>\n",
       "      <td>1981</td>\n",
       "    </tr>\n",
       "    <tr>\n",
       "      <th>365</th>\n",
       "      <td>Queens High School for the Sciences at York Co...</td>\n",
       "      <td>1947</td>\n",
       "    </tr>\n",
       "    <tr>\n",
       "      <th>5</th>\n",
       "      <td>Bard High School Early College</td>\n",
       "      <td>1914</td>\n",
       "    </tr>\n",
       "    <tr>\n",
       "      <th>280</th>\n",
       "      <td>Brooklyn Technical High School</td>\n",
       "      <td>1896</td>\n",
       "    </tr>\n",
       "    <tr>\n",
       "      <th>45</th>\n",
       "      <td>Eleanor Roosevelt High School</td>\n",
       "      <td>1889</td>\n",
       "    </tr>\n",
       "    <tr>\n",
       "      <th>68</th>\n",
       "      <td>High School for Mathematics, Science, and Engi...</td>\n",
       "      <td>1889</td>\n",
       "    </tr>\n",
       "  </tbody>\n",
       "</table>\n",
       "</div>"
      ],
      "text/plain": [
       "                                           school_name  total_SAT\n",
       "88                              Stuyvesant High School       2144\n",
       "170                       Bronx High School of Science       2041\n",
       "93                 Staten Island Technical High School       2041\n",
       "174  High School of American Studies at Lehman College       2013\n",
       "333                        Townsend Harris High School       1981\n",
       "365  Queens High School for the Sciences at York Co...       1947\n",
       "5                       Bard High School Early College       1914\n",
       "280                     Brooklyn Technical High School       1896\n",
       "45                       Eleanor Roosevelt High School       1889\n",
       "68   High School for Mathematics, Science, and Engi...       1889"
      ]
     },
     "execution_count": 3,
     "metadata": {},
     "output_type": "execute_result"
    }
   ],
   "source": [
    "schools['total_SAT'] = schools['average_math']+schools['average_reading']+schools['average_writing']\n",
    "\n",
    "top_10_schools = schools[['school_name','total_SAT']]\n",
    "\n",
    "top_10_schools = top_10_schools.sort_values('total_SAT', ascending=False).head(10)\n",
    "\n",
    "top_10_schools"
   ]
  },
  {
   "cell_type": "markdown",
   "id": "c4fefeab",
   "metadata": {
    "executionCancelledAt": null,
    "executionTime": 60,
    "lastExecutedAt": 1703720728115,
    "lastScheduledRunId": null,
    "lastSuccessfullyExecutedCode": "print(schools)",
    "outputsMetadata": {
     "0": {
      "height": 297,
      "type": "stream"
     }
    }
   },
   "source": [
    "Locate the NYC borough with the largest standard deviation for `\"total_SAT\"`, storing as a DataFrame called `largest_std_dev` with `\"borough\"` as the index and three columns: `\"num_schools\"` for the number of schools in the borough, `\"average_SAT\"` for the mean of `\"total_SAT\"`, and `\"std_SAT\"` for the standard deviation of `\"total_SAT\"`. Round all numeric values to two decimal places."
   ]
  },
  {
   "cell_type": "code",
   "execution_count": 5,
   "id": "e37ba3ce-43a2-4512-a87e-b7a77cb4347f",
   "metadata": {
    "executionCancelledAt": null,
    "executionTime": 56,
    "lastExecutedAt": 1703720728171,
    "lastScheduledRunId": null,
    "lastSuccessfullyExecutedCode": "# Import numpy with the alias np\naggregated_functions = {\n    'school_name': 'count',\n    'total_SAT': ['mean', 'std']}\n\n\nborough_stats = schools.groupby('borough')['total_SAT'].agg(['count','mean', 'std']).round(2)\nborough_stats.columns = ['num_schools','average_SAT', 'std_SAT']\n\n# Locate largest standard deviation from borough stats\nlargest_std_dev = borough_stats[borough_stats['std_SAT'] == borough_stats['std_SAT'].max()]\n\n# Set \"borough\" as the index\nlargest_std_dev.index.name = 'borough'\n\n# Display the result\nprint(largest_std_dev)\n",
    "outputsMetadata": {
     "0": {
      "height": 77,
      "type": "stream"
     }
    }
   },
   "outputs": [
    {
     "name": "stdout",
     "output_type": "stream",
     "text": [
      "           num_schools  average_SAT  std_SAT\n",
      "borough                                     \n",
      "Manhattan           89      1340.13   230.29\n"
     ]
    }
   ],
   "source": [
    "# Import numpy with the alias np\n",
    "aggregated_functions = {\n",
    "    'school_name': 'count',\n",
    "    'total_SAT': ['mean', 'std']}\n",
    "\n",
    "\n",
    "borough_stats = schools.groupby('borough')['total_SAT'].agg(['count','mean', 'std']).round(2)\n",
    "borough_stats.columns = ['num_schools','average_SAT', 'std_SAT']\n",
    "\n",
    "# Locate largest standard deviation from borough stats\n",
    "largest_std_dev = borough_stats[borough_stats['std_SAT'] == borough_stats['std_SAT'].max()]\n",
    "\n",
    "# Set \"borough\" as the index\n",
    "largest_std_dev.index.name = 'borough'\n",
    "\n",
    "# Display the result\n",
    "print(largest_std_dev)\n"
   ]
  }
 ],
 "metadata": {
  "colab": {
   "name": "Welcome to DataCamp Workspaces.ipynb",
   "provenance": []
  },
  "kernelspec": {
   "display_name": "py310",
   "language": "python",
   "name": "py310"
  },
  "language_info": {
   "codemirror_mode": {
    "name": "ipython",
    "version": 3
   },
   "file_extension": ".py",
   "mimetype": "text/x-python",
   "name": "python",
   "nbconvert_exporter": "python",
   "pygments_lexer": "ipython3",
   "version": "3.10.12"
  },
  "toc": {
   "base_numbering": 1,
   "nav_menu": {},
   "number_sections": true,
   "sideBar": true,
   "skip_h1_title": false,
   "title_cell": "Table of Contents",
   "title_sidebar": "Contents",
   "toc_cell": false,
   "toc_position": {},
   "toc_section_display": true,
   "toc_window_display": false
  }
 },
 "nbformat": 4,
 "nbformat_minor": 5
}
