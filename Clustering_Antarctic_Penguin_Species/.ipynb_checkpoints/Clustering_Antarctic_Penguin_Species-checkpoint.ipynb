{
 "cells": [
  {
   "cell_type": "markdown",
   "id": "b4d5579a-4a17-4fea-88fa-753734607995",
   "metadata": {},
   "source": [
    "# Arctic Penguin Exploration: Unraveling Clusters in the Icy Domain with K-means clustering"
   ]
  },
  {
   "cell_type": "markdown",
   "id": "589fe37e-e764-4d71-9c3c-93c8b7acee79",
   "metadata": {},
   "source": [
    "![Alt text](https://imgur.com/orZWHly.png)\n",
    "source: @allison_horst https://github.com/allisonhorst/penguins"
   ]
  },
  {
   "cell_type": "markdown",
   "id": "d3fb84f2-0eda-4b73-95c0-5364f83e25bf",
   "metadata": {},
   "source": [
    "You have been asked to support a team of researchers who have been collecting data about penguins in Antartica! \n",
    "\n",
    "**Origin of this data** : Data were collected and made available by Dr. Kristen Gorman and the Palmer Station, Antarctica LTER, a member of the Long Term Ecological Research Network.\n",
    "\n",
    "**The dataset consists of 5 columns.**\n",
    "\n",
    "- culmen_length_mm: culmen length (mm)\n",
    "- culmen_depth_mm: culmen depth (mm)\n",
    "- flipper_length_mm: flipper length (mm)\n",
    "- body_mass_g: body mass (g)\n",
    "- sex: penguin sex\n",
    "\n",
    "Unfortunately, they have not been able to record the species of penguin, but they know that there are three species that are native to the region: **Adelie**, **Chinstrap**, and **Gentoo**, so your task is to apply your data science skills to help them identify groups in the dataset!"
   ]
  },
  {
   "cell_type": "code",
   "execution_count": 1,
   "id": "57295d13-5753-4f8d-aa96-cd6815f7cbd9",
   "metadata": {
    "executionCancelledAt": null,
    "executionTime": 13,
    "lastExecutedAt": 1704320373511,
    "lastScheduledRunId": null,
    "lastSuccessfullyExecutedCode": "# Import Required Packages\nimport pandas as pd\nimport matplotlib.pyplot as plt\nfrom sklearn.decomposition import PCA\nfrom sklearn.cluster import KMeans\nfrom sklearn.preprocessing import StandardScaler\n\n"
   },
   "outputs": [],
   "source": [
    "# Import Required Packages\n",
    "import pandas as pd\n",
    "import matplotlib.pyplot as plt\n",
    "from sklearn.decomposition import PCA\n",
    "from sklearn.cluster import KMeans\n",
    "from sklearn.preprocessing import StandardScaler"
   ]
  },
  {
   "cell_type": "code",
   "execution_count": 2,
   "id": "6a74e558-17f7-469e-858b-dba247507234",
   "metadata": {
    "executionCancelledAt": null,
    "executionTime": null,
    "lastExecutedAt": null,
    "lastScheduledRunId": null,
    "lastSuccessfullyExecutedCode": null,
    "outputsMetadata": {
     "0": {
      "height": 257,
      "type": "stream"
     }
    }
   },
   "outputs": [
    {
     "name": "stdout",
     "output_type": "stream",
     "text": [
      "<class 'pandas.core.frame.DataFrame'>\n",
      "RangeIndex: 344 entries, 0 to 343\n",
      "Data columns (total 5 columns):\n",
      " #   Column             Non-Null Count  Dtype  \n",
      "---  ------             --------------  -----  \n",
      " 0   culmen_length_mm   342 non-null    float64\n",
      " 1   culmen_depth_mm    342 non-null    float64\n",
      " 2   flipper_length_mm  342 non-null    float64\n",
      " 3   body_mass_g        342 non-null    float64\n",
      " 4   sex                335 non-null    object \n",
      "dtypes: float64(4), object(1)\n",
      "memory usage: 13.6+ KB\n"
     ]
    }
   ],
   "source": [
    "# Step 1 - Loading and examining the dataset\n",
    "penguins_df = pd.read_csv(\"datasets/penguins.csv\")\n",
    "penguins_df.head()\n",
    "penguins_df.info()"
   ]
  },
  {
   "cell_type": "code",
   "execution_count": 3,
   "id": "330d4db0-3075-4757-90f0-aa13d3123d2b",
   "metadata": {
    "executionCancelledAt": null,
    "executionTime": 171,
    "lastExecutedAt": 1704320373736,
    "lastScheduledRunId": null,
    "lastSuccessfullyExecutedCode": "# Step 2.1 - Review data to isolate outliers\npenguins_df.boxplot()  \nplt.show()"
   },
   "outputs": [
    {
     "data": {
      "image/png": "[encoded data removed]",
      "text/plain": [
       "<Figure size 432x288 with 1 Axes>"
      ]
     },
     "metadata": {
      "needs_background": "light"
     },
     "output_type": "display_data"
    }
   ],
   "source": [
    "# Step 2.1 - Review data to isolate outliers\n",
    "penguins_df.boxplot()  \n",
    "plt.show()"
   ]
  },
  {
   "cell_type": "code",
   "execution_count": 4,
   "id": "52b41f0e-66fb-4eef-8c17-6cba118b31ed",
   "metadata": {
    "executionCancelledAt": null,
    "executionTime": 52,
    "lastExecutedAt": 1704320373788,
    "lastScheduledRunId": null,
    "lastSuccessfullyExecutedCode": "# Step 2.2 - Dealing with null values and outliers\n\npenguins_df = penguins_df.dropna()\npenguins_df[penguins_df['flipper_length_mm']>4000]\npenguins_df[penguins_df['flipper_length_mm']<0]\npenguins_clean = penguins_df.drop([9,14])"
   },
   "outputs": [],
   "source": [
    "# Step 2.2 - Dealing with null values and outliers\n",
    "\n",
    "penguins_df = penguins_df.dropna()\n",
    "penguins_df[penguins_df['flipper_length_mm']>4000]\n",
    "penguins_df[penguins_df['flipper_length_mm']<0]\n",
    "penguins_clean = penguins_df.drop([9,14])"
   ]
  },
  {
   "cell_type": "code",
   "execution_count": 5,
   "id": "022ccdb3-f008-48ed-92a0-e79bd598a892",
   "metadata": {
    "executionCancelledAt": null,
    "executionTime": 51,
    "lastExecutedAt": 1704320373840,
    "lastScheduledRunId": null,
    "lastSuccessfullyExecutedCode": "# Step 3 - Perform preprocessing steps on the dataset to create dummy variables\ndf = pd.get_dummies(penguins_clean).drop('sex_.',axis=1)"
   },
   "outputs": [],
   "source": [
    "# Step 3 - Perform preprocessing steps on the dataset to create dummy variables\n",
    "df = pd.get_dummies(penguins_clean).drop('sex_.',axis=1)"
   ]
  },
  {
   "cell_type": "code",
   "execution_count": 6,
   "id": "8847f009-e761-4619-b055-8e09d5ec0510",
   "metadata": {
    "executionCancelledAt": null,
    "executionTime": null,
    "lastExecutedAt": null,
    "lastScheduledRunId": null,
    "lastSuccessfullyExecutedCode": null,
    "outputsMetadata": {
     "0": {
      "height": 198,
      "type": "dataFrame"
     }
    }
   },
   "outputs": [
    {
     "data": {
      "text/html": [
       "<div>\n",
       "<style scoped>\n",
       "    .dataframe tbody tr th:only-of-type {\n",
       "        vertical-align: middle;\n",
       "    }\n",
       "\n",
       "    .dataframe tbody tr th {\n",
       "        vertical-align: top;\n",
       "    }\n",
       "\n",
       "    .dataframe thead th {\n",
       "        text-align: right;\n",
       "    }\n",
       "</style>\n",
       "<table border=\"1\" class=\"dataframe\">\n",
       "  <thead>\n",
       "    <tr style=\"text-align: right;\">\n",
       "      <th></th>\n",
       "      <th>culmen_length_mm</th>\n",
       "      <th>culmen_depth_mm</th>\n",
       "      <th>flipper_length_mm</th>\n",
       "      <th>body_mass_g</th>\n",
       "      <th>sex_FEMALE</th>\n",
       "      <th>sex_MALE</th>\n",
       "    </tr>\n",
       "  </thead>\n",
       "  <tbody>\n",
       "    <tr>\n",
       "      <th>0</th>\n",
       "      <td>-0.905520</td>\n",
       "      <td>0.793126</td>\n",
       "      <td>-1.428125</td>\n",
       "      <td>-0.569709</td>\n",
       "      <td>-0.991031</td>\n",
       "      <td>0.997001</td>\n",
       "    </tr>\n",
       "    <tr>\n",
       "      <th>1</th>\n",
       "      <td>-0.831938</td>\n",
       "      <td>0.128503</td>\n",
       "      <td>-1.071522</td>\n",
       "      <td>-0.507579</td>\n",
       "      <td>1.009050</td>\n",
       "      <td>-1.003008</td>\n",
       "    </tr>\n",
       "    <tr>\n",
       "      <th>2</th>\n",
       "      <td>-0.684775</td>\n",
       "      <td>0.435252</td>\n",
       "      <td>-0.429637</td>\n",
       "      <td>-1.191006</td>\n",
       "      <td>1.009050</td>\n",
       "      <td>-1.003008</td>\n",
       "    </tr>\n",
       "    <tr>\n",
       "      <th>3</th>\n",
       "      <td>-1.347011</td>\n",
       "      <td>1.099875</td>\n",
       "      <td>-0.572278</td>\n",
       "      <td>-0.942487</td>\n",
       "      <td>1.009050</td>\n",
       "      <td>-1.003008</td>\n",
       "    </tr>\n",
       "    <tr>\n",
       "      <th>4</th>\n",
       "      <td>-0.868729</td>\n",
       "      <td>1.764498</td>\n",
       "      <td>-0.786240</td>\n",
       "      <td>-0.693968</td>\n",
       "      <td>-0.991031</td>\n",
       "      <td>0.997001</td>\n",
       "    </tr>\n",
       "  </tbody>\n",
       "</table>\n",
       "</div>"
      ],
      "text/plain": [
       "   culmen_length_mm  culmen_depth_mm  flipper_length_mm  body_mass_g  \\\n",
       "0         -0.905520         0.793126          -1.428125    -0.569709   \n",
       "1         -0.831938         0.128503          -1.071522    -0.507579   \n",
       "2         -0.684775         0.435252          -0.429637    -1.191006   \n",
       "3         -1.347011         1.099875          -0.572278    -0.942487   \n",
       "4         -0.868729         1.764498          -0.786240    -0.693968   \n",
       "\n",
       "   sex_FEMALE  sex_MALE  \n",
       "0   -0.991031  0.997001  \n",
       "1    1.009050 -1.003008  \n",
       "2    1.009050 -1.003008  \n",
       "3    1.009050 -1.003008  \n",
       "4   -0.991031  0.997001  "
      ]
     },
     "execution_count": 6,
     "metadata": {},
     "output_type": "execute_result"
    }
   ],
   "source": [
    "# Step 4 - Perform preprocessing steps on the dataset - scaling\n",
    "scaler = StandardScaler()\n",
    "X = scaler.fit_transform(df)\n",
    "penguins_preprocessed = pd.DataFrame(data=X,columns=df.columns)\n",
    "penguins_preprocessed.head()"
   ]
  },
  {
   "cell_type": "code",
   "execution_count": 7,
   "id": "28240075-2c91-4ad8-9676-5fcad61ccf01",
   "metadata": {
    "executionCancelledAt": null,
    "executionTime": 55,
    "lastExecutedAt": 1704320373948,
    "lastScheduledRunId": null,
    "lastSuccessfullyExecutedCode": "# Step 5 - Perform PCA\npca = PCA(n_components=None)\ndfx_pca = pca.fit(penguins_preprocessed)\ndfx_pca.explained_variance_ratio_\nn_components=sum(dfx_pca.explained_variance_ratio_>0.1)\npca = PCA(n_components=n_components)\npenguins_PCA = pca.fit_transform(penguins_preprocessed)"
   },
   "outputs": [],
   "source": [
    "# Step 5 - Perform PCA\n",
    "pca = PCA(n_components=None)\n",
    "dfx_pca = pca.fit(penguins_preprocessed)\n",
    "dfx_pca.explained_variance_ratio_\n",
    "n_components=sum(dfx_pca.explained_variance_ratio_>0.1)\n",
    "pca = PCA(n_components=n_components)\n",
    "penguins_PCA = pca.fit_transform(penguins_preprocessed)"
   ]
  },
  {
   "cell_type": "code",
   "execution_count": 8,
   "id": "07c4f56d-5d43-45ac-8a75-8e8dbb701461",
   "metadata": {
    "executionCancelledAt": null,
    "executionTime": 249,
    "lastExecutedAt": 1704320374198,
    "lastScheduledRunId": null,
    "lastSuccessfullyExecutedCode": "# Step 6 - Detect the optimal number of clusters for k-means clustering\ninertia = []\nfor k in range(1, 10):\n    kmeans = KMeans(n_clusters=k, random_state=42).fit(penguins_PCA)\n    inertia.append(kmeans.inertia_)    \nplt.plot(range(1, 10), inertia, marker='o')\nplt.xlabel('Number of clusters')\nplt.ylabel('Inertia')\nplt.title('Elbow Method')\nplt.show()\n"
   },
   "outputs": [
    {
     "data": {
      "image/png": "[encoded data removed]",
      "text/plain": [
       "<Figure size 432x288 with 1 Axes>"
      ]
     },
     "metadata": {
      "needs_background": "light"
     },
     "output_type": "display_data"
    }
   ],
   "source": [
    "# Step 6 - Detect the optimal number of clusters for k-means clustering\n",
    "inertia = []\n",
    "for k in range(1, 10):\n",
    "    kmeans = KMeans(n_clusters=k, random_state=42).fit(penguins_PCA)\n",
    "    inertia.append(kmeans.inertia_)    \n",
    "plt.plot(range(1, 10), inertia, marker='o')\n",
    "plt.xlabel('Number of clusters')\n",
    "plt.ylabel('Inertia')\n",
    "plt.title('Elbow Method')\n",
    "plt.show()\n"
   ]
  },
  {
   "cell_type": "code",
   "execution_count": 9,
   "id": "eb78d977-f243-45cf-b9ac-a3977cee8349",
   "metadata": {
    "executionCancelledAt": null,
    "executionTime": 50,
    "lastExecutedAt": 1704320374248,
    "lastScheduledRunId": null,
    "lastSuccessfullyExecutedCode": "n_clusters=4"
   },
   "outputs": [],
   "source": [
    "n_clusters=4"
   ]
  },
  {
   "cell_type": "code",
   "execution_count": 10,
   "id": "39e8564d-6997-46a9-9d49-4a187c030033",
   "metadata": {
    "executionCancelledAt": null,
    "executionTime": 165,
    "lastExecutedAt": 1704320374414,
    "lastScheduledRunId": null,
    "lastSuccessfullyExecutedCode": "# Step 7 - Run the k-means clustering algorithm\n# with the optimal number of clusters \n# and visualize the resulting clusters.\nkmeans = KMeans(n_clusters=n_clusters, random_state=42).fit(penguins_PCA)\nplt.scatter(penguins_PCA[:, 0], penguins_PCA[:, 1], c=kmeans.labels_, cmap='viridis')\nplt.xlabel('First Principal Component')\nplt.ylabel('Second Principal Component')\nplt.title(f'K-means Clustering (K={n_clusters})')\nplt.legend()\nplt.show()"
   },
   "outputs": [
    {
     "name": "stderr",
     "output_type": "stream",
     "text": [
      "No handles with labels found to put in legend.\n"
     ]
    },
    {
     "data": {
      "image/png": "[encoded data removed]",
      "text/plain": [
       "<Figure size 432x288 with 1 Axes>"
      ]
     },
     "metadata": {
      "needs_background": "light"
     },
     "output_type": "display_data"
    }
   ],
   "source": [
    "# Step 7 - Run the k-means clustering algorithm\n",
    "# with the optimal number of clusters \n",
    "# and visualize the resulting clusters.\n",
    "kmeans = KMeans(n_clusters=n_clusters, random_state=42).fit(penguins_PCA)\n",
    "plt.scatter(penguins_PCA[:, 0], penguins_PCA[:, 1], c=kmeans.labels_, cmap='viridis')\n",
    "plt.xlabel('First Principal Component')\n",
    "plt.ylabel('Second Principal Component')\n",
    "plt.title(f'K-means Clustering (K={n_clusters})')\n",
    "plt.legend()\n",
    "plt.show()"
   ]
  },
  {
   "cell_type": "code",
   "execution_count": 11,
   "id": "c6db1872-3431-4fe9-ac9c-f9248b7fed56",
   "metadata": {
    "executionCancelledAt": null,
    "executionTime": null,
    "lastExecutedAt": null,
    "lastScheduledRunId": null,
    "lastSuccessfullyExecutedCode": null,
    "outputsMetadata": {
     "0": {
      "height": 173,
      "type": "dataFrame"
     },
     "4": {
      "height": 173,
      "type": "dataFrame"
     }
    }
   },
   "outputs": [
    {
     "data": {
      "text/html": [
       "<div>\n",
       "<style scoped>\n",
       "    .dataframe tbody tr th:only-of-type {\n",
       "        vertical-align: middle;\n",
       "    }\n",
       "\n",
       "    .dataframe tbody tr th {\n",
       "        vertical-align: top;\n",
       "    }\n",
       "\n",
       "    .dataframe thead th {\n",
       "        text-align: right;\n",
       "    }\n",
       "</style>\n",
       "<table border=\"1\" class=\"dataframe\">\n",
       "  <thead>\n",
       "    <tr style=\"text-align: right;\">\n",
       "      <th></th>\n",
       "      <th>culmen_length_mm</th>\n",
       "      <th>culmen_depth_mm</th>\n",
       "      <th>flipper_length_mm</th>\n",
       "    </tr>\n",
       "    <tr>\n",
       "      <th>label</th>\n",
       "      <th></th>\n",
       "      <th></th>\n",
       "      <th></th>\n",
       "    </tr>\n",
       "  </thead>\n",
       "  <tbody>\n",
       "    <tr>\n",
       "      <th>0</th>\n",
       "      <td>43.878302</td>\n",
       "      <td>19.111321</td>\n",
       "      <td>194.764151</td>\n",
       "    </tr>\n",
       "    <tr>\n",
       "      <th>1</th>\n",
       "      <td>40.217757</td>\n",
       "      <td>17.611215</td>\n",
       "      <td>189.046729</td>\n",
       "    </tr>\n",
       "    <tr>\n",
       "      <th>2</th>\n",
       "      <td>45.545763</td>\n",
       "      <td>14.262712</td>\n",
       "      <td>212.779661</td>\n",
       "    </tr>\n",
       "    <tr>\n",
       "      <th>3</th>\n",
       "      <td>49.473770</td>\n",
       "      <td>15.718033</td>\n",
       "      <td>221.540984</td>\n",
       "    </tr>\n",
       "  </tbody>\n",
       "</table>\n",
       "</div>"
      ],
      "text/plain": [
       "       culmen_length_mm  culmen_depth_mm  flipper_length_mm\n",
       "label                                                      \n",
       "0             43.878302        19.111321         194.764151\n",
       "1             40.217757        17.611215         189.046729\n",
       "2             45.545763        14.262712         212.779661\n",
       "3             49.473770        15.718033         221.540984"
      ]
     },
     "execution_count": 11,
     "metadata": {},
     "output_type": "execute_result"
    }
   ],
   "source": [
    "# Step 8 - Create a final statistical DataFrame for each cluster.\n",
    "penguins_clean['label'] = kmeans.labels_\n",
    "numeric_columns = ['culmen_length_mm', 'culmen_depth_mm', 'flipper_length_mm','label']\n",
    "stat_penguins = penguins_clean[numeric_columns].groupby('label').mean()\n",
    "stat_penguins"
   ]
  }
 ],
 "metadata": {
  "colab": {
   "name": "Welcome to DataCamp Workspaces.ipynb",
   "provenance": []
  },
  "kernelspec": {
   "display_name": "Python 3",
   "language": "python",
   "name": "python3"
  },
  "language_info": {
   "codemirror_mode": {
    "name": "ipython",
    "version": 3
   },
   "file_extension": ".py",
   "mimetype": "text/x-python",
   "name": "python",
   "nbconvert_exporter": "python",
   "pygments_lexer": "ipython3",
   "version": "3.6.13"
  },
  "toc": {
   "base_numbering": 1,
   "nav_menu": {},
   "number_sections": true,
   "sideBar": true,
   "skip_h1_title": false,
   "title_cell": "Table of Contents",
   "title_sidebar": "Contents",
   "toc_cell": false,
   "toc_position": {},
   "toc_section_display": true,
   "toc_window_display": false
  }
 },
 "nbformat": 4,
 "nbformat_minor": 5
}
